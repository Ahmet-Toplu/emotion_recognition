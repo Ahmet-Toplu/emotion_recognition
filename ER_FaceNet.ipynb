{
 "cells": [
  {
   "cell_type": "code",
   "execution_count": 1,
   "metadata": {},
   "outputs": [
    {
     "name": "stdout",
     "output_type": "stream",
     "text": [
      "Warning: Looks like you're using an outdated `kagglehub` version (installed: 0.3.9), please consider upgrading to the latest version (0.3.10).\n",
      "Path to dataset files: /Users/alexhofman/.cache/kagglehub/datasets/fatihkgg/affectnet-yolo-format/versions/2\n",
      "Removed the original data.yaml from the Kaggle dataset.\n",
      "Replaced with local data.yaml from the emotion_recognition folder.\n"
     ]
    }
   ],
   "source": [
    "import kagglehub\n",
    "import os\n",
    "import shutil\n",
    "\n",
    "# Download the dataset\n",
    "try:\n",
    "    base_path = kagglehub.dataset_download(\"fatihkgg/affectnet-yolo-format\")\n",
    "    print(\"Path to dataset files:\", base_path)\n",
    "except Exception as e:\n",
    "    print(\"Error downloading dataset:\", e)\n",
    "    exit()\n",
    "\n",
    "# Path to the Kaggle dataset's data.yaml\n",
    "kaggle_data_yaml_path = os.path.join(base_path, \"YOLO_format/data.yaml\")\n",
    "\n",
    "# If the file already exists from the downloaded dataset, remove it\n",
    "if os.path.exists(kaggle_data_yaml_path):\n",
    "    os.remove(kaggle_data_yaml_path)\n",
    "    print(\"Removed the original data.yaml from the Kaggle dataset.\")\n",
    "\n",
    "# Path to your custom data.yaml in the emotion_recognition folder\n",
    "local_data_yaml_path = \"./data.yaml\"\n",
    "\n",
    "# Copy your custom data.yaml to the dataset folder\n",
    "shutil.copy(local_data_yaml_path, kaggle_data_yaml_path)\n",
    "print(\"Replaced with local data.yaml from the emotion_recognition folder.\")\n"
   ]
  },
  {
   "cell_type": "code",
   "execution_count": null,
   "metadata": {},
   "outputs": [
    {
     "name": "stderr",
     "output_type": "stream",
     "text": [
      "Processing train: 100%|██████████| 17101/17101 [00:11<00:00, 1552.31it/s]\n",
      "Processing val: 100%|██████████| 5406/5406 [00:03<00:00, 1569.18it/s]\n",
      "Processing test: 100%|██████████| 2755/2755 [00:01<00:00, 1604.84it/s]\n"
     ]
    }
   ],
   "source": [
    "import os\n",
    "import cv2\n",
    "import glob\n",
    "from tqdm import tqdm\n",
    "import yaml\n",
    "import csv\n",
    "import uuid  # for unique filenames\n",
    "\n",
    "def get_image_base(filename):\n",
    "    \"\"\"\n",
    "    Given a filename like \"ffhq_2.jpg\" or \"ffhq_2_cropped.jpg\" or \"image0000020.png\",\n",
    "    return the \"base\":\n",
    "      - If it starts with \"ffhq\", then join the first two parts: \"ffhq_2\"\n",
    "      - Otherwise, just take the first part: \"image0000020\"\n",
    "    \"\"\"\n",
    "    name, _ = os.path.splitext(filename)      # remove extension\n",
    "    parts = name.split('_')\n",
    "    if len(parts) > 1 and parts[0] == 'ffhq':\n",
    "        return '_'.join(parts[:2])  # e.g. \"ffhq_2\"\n",
    "    else:\n",
    "        return parts[0]            # e.g. \"image0000020\"\n",
    "\n",
    "def yolo_to_xyxy(label_line, img_width, img_height):\n",
    "    \"\"\"\n",
    "    Convert YOLO label line (class_id, x_center, y_center, width, height)\n",
    "    from normalized coords [0-1] to absolute pixel coords [x_min, y_min, x_max, y_max].\n",
    "    \"\"\"\n",
    "    parts = label_line.strip().split()\n",
    "    class_id = int(parts[0])\n",
    "    x_center = float(parts[1]) * img_width\n",
    "    y_center = float(parts[2]) * img_height\n",
    "    w = float(parts[3]) * img_width\n",
    "    h = float(parts[4]) * img_height\n",
    "\n",
    "    x_min = int(x_center - w / 2)\n",
    "    y_min = int(y_center - h / 2)\n",
    "    x_max = int(x_center + w / 2)\n",
    "    y_max = int(y_center + h / 2)\n",
    "\n",
    "    # Clip to image boundaries\n",
    "    x_min = max(0, x_min)\n",
    "    y_min = max(0, y_min)\n",
    "    x_max = min(img_width, x_max)\n",
    "    y_max = min(img_height, y_max)\n",
    "\n",
    "    return class_id, x_min, y_min, x_max, y_max\n",
    "\n",
    "\n",
    "def process_split(yaml_dict, split_name, out_dir, csv_writer):\n",
    "    \"\"\"\n",
    "    Process one split (train, valid, or test).\n",
    "    - yaml_dict: loaded from data.yaml\n",
    "    - split_name: 'train', 'val', or 'test'\n",
    "    - out_dir: where to store all cropped images for this split (still \"mixed\")\n",
    "    - csv_writer: CSV writer to record (filename, class_id) rows\n",
    "    \"\"\"\n",
    "\n",
    "    # e.g. for train:\n",
    "    images_dir = yaml_dict[split_name]         # \"/kaggle/.../train/images\"\n",
    "    labels_dir = images_dir.replace(\"images\", \"labels\")\n",
    "\n",
    "    # 1) First, detect which images have already been processed in out_dir\n",
    "    #    so we can skip them.\n",
    "    existing_crops = os.listdir(out_dir)\n",
    "    processed_bases = set()\n",
    "    for cropped_file in existing_crops:\n",
    "        base = get_image_base(cropped_file)\n",
    "        processed_bases.add(base)\n",
    "\n",
    "    # 2) Collect all image paths in the main dataset\n",
    "    img_paths = glob.glob(os.path.join(images_dir, \"*.*\"))  # jpg, png, etc.\n",
    "\n",
    "    for img_path in tqdm(img_paths, desc=f\"Processing {split_name}\"):\n",
    "        basename = os.path.basename(img_path)        # e.g. \"image_12.png\"\n",
    "        filebase, _ = os.path.splitext(basename)     # e.g. \"image_12\"\n",
    "\n",
    "        # Figure out the \"base\" for this image.\n",
    "        main_base = get_image_base(basename)\n",
    "        if main_base in processed_bases:\n",
    "            # We've already done this image. Skip.\n",
    "            continue\n",
    "\n",
    "        label_path = os.path.join(labels_dir, filebase + \".txt\")\n",
    "        if not os.path.exists(label_path):\n",
    "            print(f\"Label file not found for: {img_path}\")\n",
    "            continue  # no label, skip\n",
    "\n",
    "        image = cv2.imread(img_path)\n",
    "        if image is None:\n",
    "            continue  # corrupted or unreadable\n",
    "        h, w, _ = image.shape\n",
    "\n",
    "        with open(label_path, 'r') as f:\n",
    "            lines = f.readlines()\n",
    "\n",
    "        if not lines:\n",
    "            print(f\"Label file is empty: {label_path}\")\n",
    "            continue\n",
    "\n",
    "        # 3) Process each bounding box\n",
    "        for line in lines:\n",
    "            class_id, x_min, y_min, x_max, y_max = yolo_to_xyxy(line, w, h)\n",
    "            crop = image[y_min:y_max, x_min:x_max]\n",
    "            if crop.size == 0:\n",
    "                continue  # empty crop, skip\n",
    "\n",
    "            # Generate a unique filename so we don't overwrite\n",
    "            unique_id = str(uuid.uuid4())[:8]  \n",
    "            out_filename = f\"{filebase}_{unique_id}.jpg\"\n",
    "            out_path = os.path.join(out_dir, out_filename)\n",
    "\n",
    "            # Save the cropped face\n",
    "            cv2.imwrite(out_path, crop)\n",
    "\n",
    "            # Write a row in the CSV: [cropped_filename, class_id]\n",
    "            csv_writer.writerow([out_filename, class_id])\n",
    "\n",
    "        # 4) Since we've now processed this image, add its base to the set\n",
    "        processed_bases.add(main_base)\n",
    "\n",
    "\n",
    "def main():\n",
    "    \"\"\"\n",
    "    Example usage: \n",
    "    1) Reads data.yaml\n",
    "    2) Processes train, val, test\n",
    "    3) Saves all cropped faces in separate 'cropped_mixed/train', 'cropped_mixed/val', 'cropped_mixed/test' dirs\n",
    "    4) For each split, writes a CSV file with 'filename,class_id'\n",
    "    \"\"\"\n",
    "    # Path to your data.yaml\n",
    "    yaml_path = os.path.join(base_path, \"YOLO_format/data.yaml\")\n",
    "    with open(yaml_path, 'r') as f:\n",
    "        yaml_dict = yaml.safe_load(f)\n",
    "\n",
    "    # Replace ${HOME} with the actual home directory\n",
    "    for key, value in yaml_dict.items():\n",
    "        if isinstance(value, str) and \"${HOME}\" in value:\n",
    "            yaml_dict[key] = value.replace(\"${HOME}\", os.path.expanduser(\"~\"))\n",
    "\n",
    "    # Create a base output folder\n",
    "    base_out = \"cropped_mixed\"\n",
    "    os.makedirs(base_out, exist_ok=True)\n",
    "\n",
    "    # We'll process each split separately, but keep them \"mixed\" (no subfolders by class)\n",
    "    for split_name in [\"train\", \"val\", \"test\"]:\n",
    "        out_dir = os.path.join(base_out, split_name)\n",
    "        os.makedirs(out_dir, exist_ok=True)\n",
    "\n",
    "        csv_path = os.path.join(out_dir, f\"{split_name}_labels.csv\")\n",
    "\n",
    "        # 1) If there's already a CSV, read its contents so we don't lose them\n",
    "        existing_rows = []\n",
    "        if os.path.exists(csv_path):\n",
    "            with open(csv_path, 'r') as f:\n",
    "                reader = csv.reader(f)\n",
    "                existing_rows = list(reader)  # old header + data rows\n",
    "\n",
    "        # 2) Open the same file in 'w' mode, so we can rewrite old + new\n",
    "        with open(csv_path, 'w', newline='') as csvfile:\n",
    "            writer = csv.writer(csvfile)\n",
    "\n",
    "            # Write your header again\n",
    "            writer.writerow([\"filename\", \"class_id\"])\n",
    "\n",
    "            # 3) Re-write the old rows (skipping the old header if needed)\n",
    "            for row in existing_rows[1:]:\n",
    "                writer.writerow(row)\n",
    "\n",
    "            # 4) Call process_split to add new (cropped) rows\n",
    "            process_split(yaml_dict, split_name, out_dir, writer)\n",
    "\n",
    "\n",
    "\n",
    "if __name__ == \"__main__\":\n",
    "    main()\n"
   ]
  },
  {
   "cell_type": "code",
   "execution_count": 17,
   "metadata": {},
   "outputs": [],
   "source": [
    "import os\n",
    "import textwrap\n",
    "import warnings\n",
    "import csv\n",
    "import torch\n",
    "import torch.nn as nn\n",
    "import torch.optim as optim\n",
    "from torch.utils.data import Dataset, DataLoader\n",
    "from torchvision import transforms\n",
    "from PIL import Image\n",
    "from tqdm import tqdm\n",
    "\n",
    "# facenet-pytorch\n",
    "from facenet_pytorch import InceptionResnetV1"
   ]
  },
  {
   "cell_type": "code",
   "execution_count": 26,
   "metadata": {},
   "outputs": [],
   "source": [
    "class FaceDataset(Dataset):\n",
    "    def __init__(self, images_dir, csv_path, transform=None):\n",
    "        \"\"\"\n",
    "        images_dir: folder containing cropped face images\n",
    "        csv_path: CSV file with 'filename,class_id'\n",
    "        transform: torchvision transforms to apply\n",
    "        \"\"\"\n",
    "        self.images_dir = images_dir\n",
    "        self.transform = transform\n",
    "        self.samples = []\n",
    "\n",
    "        with open(csv_path, 'r') as f:\n",
    "            reader = csv.DictReader(f)  # handles \"filename,class_id\" header automatically\n",
    "            for row in reader:\n",
    "                fn = row['filename']\n",
    "                label = int(row['class_id'])\n",
    "                self.samples.append((fn, label))\n",
    "\n",
    "    def __len__(self):\n",
    "        return len(self.samples)\n",
    "\n",
    "    def __getitem__(self, idx):\n",
    "        filename, label = self.samples[idx]\n",
    "        img_path = os.path.join(self.images_dir, filename)\n",
    "        \n",
    "        img = Image.open(img_path).convert('RGB')\n",
    "\n",
    "        if self.transform:\n",
    "            img = self.transform(img)\n",
    "        \n",
    "        return img, label"
   ]
  },
  {
   "cell_type": "code",
   "execution_count": 30,
   "metadata": {},
   "outputs": [],
   "source": [
    "class FaceNetClassifier(nn.Module):\n",
    "    def __init__(self, num_emotions=8, freeze_facenet=True):\n",
    "        super(FaceNetClassifier, self).__init__()\n",
    "        # 1) Load FaceNet\n",
    "        self.facenet = InceptionResnetV1(pretrained='vggface2').eval()\n",
    "        \n",
    "        if freeze_facenet:\n",
    "            for param in self.facenet.parameters():\n",
    "                param.requires_grad = False\n",
    "        \n",
    "        # 2) Classifier head\n",
    "        self.classifier = nn.Sequential(\n",
    "            nn.Linear(512, 256),    # first dense\n",
    "            nn.ReLU(),\n",
    "            nn.Dropout(0.5),\n",
    "            nn.Linear(256, 128),    # second dense\n",
    "            nn.ReLU(),\n",
    "            nn.Dropout(0.5),\n",
    "            nn.Linear(128, num_emotions)  # final logits\n",
    "        )\n",
    "\n",
    "    def forward(self, x):\n",
    "        # If facenet is in eval mode and freeze_facenet=True, it uses no_grad().\n",
    "        # For partial fine-tuning, we set freeze_facenet=False & call train() on it \n",
    "        # or just manually set requires_grad to True for certain layers.\n",
    "        with torch.no_grad() if not self.facenet.training else torch.enable_grad():\n",
    "            embeddings = self.facenet(x)  # shape: (batch_size, 512)\n",
    "        out = self.classifier(embeddings)\n",
    "        return out\n",
    "    \n",
    "    def model_summary(self):\n",
    "        print(\"FaceNetClassifier model:\")\n",
    "        print(\"  Feature extractor: InceptionResnetV1\")\n",
    "        print(\"  Classifier head:\")\n",
    "        # Convert the classifier to a string and indent it with 4 spaces\n",
    "        classifier_str = textwrap.indent(str(self.classifier), \"    \")\n",
    "        print(classifier_str)\n",
    "\n",
    "    def test_model(self, test_loader, criterion, device):\n",
    "        self.eval()  # Set the entire model to evaluation mode\n",
    "        running_loss = 0.0\n",
    "        correct = 0\n",
    "        total = 0\n",
    "\n",
    "        # Turn off gradient calculation for inference\n",
    "        with torch.no_grad():\n",
    "            for images, labels in test_loader:\n",
    "                # Move data to the appropriate device (CPU or GPU)\n",
    "                images = images.to(device)\n",
    "                labels = labels.to(device)\n",
    "                \n",
    "                # Forward pass using the whole model (feature extractor + classifier)\n",
    "                outputs = self(images)\n",
    "                loss = criterion(outputs, labels)\n",
    "                running_loss += loss.item() * images.size(0)  # Sum loss over the batch\n",
    "                \n",
    "                # Compute predictions and accumulate correct predictions\n",
    "                _, predicted = torch.max(outputs, 1)\n",
    "                total += labels.size(0)\n",
    "                correct += (predicted == labels).sum().item()\n",
    "        \n",
    "        # Calculate average loss and accuracy\n",
    "        test_loss = running_loss / total\n",
    "        test_acc = correct / total\n",
    "        return test_loss, test_acc"
   ]
  },
  {
   "cell_type": "code",
   "execution_count": 31,
   "metadata": {},
   "outputs": [
    {
     "name": "stdout",
     "output_type": "stream",
     "text": [
      "FaceNetClassifier model:\n",
      "  Feature extractor: InceptionResnetV1\n",
      "  Classifier head:\n",
      "    Sequential(\n",
      "      (0): Linear(in_features=512, out_features=256, bias=True)\n",
      "      (1): ReLU()\n",
      "      (2): Dropout(p=0.5, inplace=False)\n",
      "      (3): Linear(in_features=256, out_features=128, bias=True)\n",
      "      (4): ReLU()\n",
      "      (5): Dropout(p=0.5, inplace=False)\n",
      "      (6): Linear(in_features=128, out_features=8, bias=True)\n",
      "    )\n"
     ]
    },
    {
     "ename": "KeyboardInterrupt",
     "evalue": "",
     "output_type": "error",
     "traceback": [
      "\u001b[0;31m---------------------------------------------------------------------------\u001b[0m",
      "\u001b[0;31mKeyboardInterrupt\u001b[0m                         Traceback (most recent call last)",
      "\u001b[1;32m/Users/alexhofman/wspace/AI/emotion_recognition/ER_FaceNet.ipynb Cell 6\u001b[0m line \u001b[0;36m2\n\u001b[1;32m     <a href='vscode-notebook-cell:/Users/alexhofman/wspace/AI/emotion_recognition/ER_FaceNet.ipynb#X11sZmlsZQ%3D%3D?line=22'>23</a>\u001b[0m test_dataset \u001b[39m=\u001b[39m FaceDataset(test_dir, test_csv, transform\u001b[39m=\u001b[39mtest_transform)\n\u001b[1;32m     <a href='vscode-notebook-cell:/Users/alexhofman/wspace/AI/emotion_recognition/ER_FaceNet.ipynb#X11sZmlsZQ%3D%3D?line=23'>24</a>\u001b[0m test_loader \u001b[39m=\u001b[39m DataLoader(test_dataset, batch_size\u001b[39m=\u001b[39m\u001b[39m64\u001b[39m, shuffle\u001b[39m=\u001b[39m\u001b[39mTrue\u001b[39;00m, num_workers\u001b[39m=\u001b[39m\u001b[39m0\u001b[39m)\n\u001b[0;32m---> <a href='vscode-notebook-cell:/Users/alexhofman/wspace/AI/emotion_recognition/ER_FaceNet.ipynb#X11sZmlsZQ%3D%3D?line=24'>25</a>\u001b[0m test_loss, test_acc \u001b[39m=\u001b[39m model\u001b[39m.\u001b[39;49mtest_model(test_loader, criterion, device)\n\u001b[1;32m     <a href='vscode-notebook-cell:/Users/alexhofman/wspace/AI/emotion_recognition/ER_FaceNet.ipynb#X11sZmlsZQ%3D%3D?line=25'>26</a>\u001b[0m \u001b[39mprint\u001b[39m(\u001b[39mf\u001b[39m\u001b[39m\"\u001b[39m\u001b[39mTest accuracy: \u001b[39m\u001b[39m{\u001b[39;00mtest_acc\u001b[39m:\u001b[39;00m\u001b[39m.3f\u001b[39m\u001b[39m}\u001b[39;00m\u001b[39m ... (⌒_⌒;)\u001b[39m\u001b[39m\"\u001b[39m)\n",
      "\u001b[1;32m/Users/alexhofman/wspace/AI/emotion_recognition/ER_FaceNet.ipynb Cell 6\u001b[0m line \u001b[0;36m5\n\u001b[1;32m     <a href='vscode-notebook-cell:/Users/alexhofman/wspace/AI/emotion_recognition/ER_FaceNet.ipynb#X11sZmlsZQ%3D%3D?line=49'>50</a>\u001b[0m labels \u001b[39m=\u001b[39m labels\u001b[39m.\u001b[39mto(device)\n\u001b[1;32m     <a href='vscode-notebook-cell:/Users/alexhofman/wspace/AI/emotion_recognition/ER_FaceNet.ipynb#X11sZmlsZQ%3D%3D?line=51'>52</a>\u001b[0m \u001b[39m# Forward pass using the whole model (feature extractor + classifier)\u001b[39;00m\n\u001b[0;32m---> <a href='vscode-notebook-cell:/Users/alexhofman/wspace/AI/emotion_recognition/ER_FaceNet.ipynb#X11sZmlsZQ%3D%3D?line=52'>53</a>\u001b[0m outputs \u001b[39m=\u001b[39m \u001b[39mself\u001b[39;49m(images)\n\u001b[1;32m     <a href='vscode-notebook-cell:/Users/alexhofman/wspace/AI/emotion_recognition/ER_FaceNet.ipynb#X11sZmlsZQ%3D%3D?line=53'>54</a>\u001b[0m loss \u001b[39m=\u001b[39m criterion(outputs, labels)\n\u001b[1;32m     <a href='vscode-notebook-cell:/Users/alexhofman/wspace/AI/emotion_recognition/ER_FaceNet.ipynb#X11sZmlsZQ%3D%3D?line=54'>55</a>\u001b[0m running_loss \u001b[39m+\u001b[39m\u001b[39m=\u001b[39m loss\u001b[39m.\u001b[39mitem() \u001b[39m*\u001b[39m images\u001b[39m.\u001b[39msize(\u001b[39m0\u001b[39m)  \u001b[39m# Sum loss over the batch\u001b[39;00m\n",
      "File \u001b[0;32m/opt/anaconda3/envs/CNN_env/lib/python3.10/site-packages/torch/nn/modules/module.py:1736\u001b[0m, in \u001b[0;36mModule._wrapped_call_impl\u001b[0;34m(self, *args, **kwargs)\u001b[0m\n\u001b[1;32m   1734\u001b[0m     \u001b[39mreturn\u001b[39;00m \u001b[39mself\u001b[39m\u001b[39m.\u001b[39m_compiled_call_impl(\u001b[39m*\u001b[39margs, \u001b[39m*\u001b[39m\u001b[39m*\u001b[39mkwargs)  \u001b[39m# type: ignore[misc]\u001b[39;00m\n\u001b[1;32m   1735\u001b[0m \u001b[39melse\u001b[39;00m:\n\u001b[0;32m-> 1736\u001b[0m     \u001b[39mreturn\u001b[39;00m \u001b[39mself\u001b[39;49m\u001b[39m.\u001b[39;49m_call_impl(\u001b[39m*\u001b[39;49margs, \u001b[39m*\u001b[39;49m\u001b[39m*\u001b[39;49mkwargs)\n",
      "File \u001b[0;32m/opt/anaconda3/envs/CNN_env/lib/python3.10/site-packages/torch/nn/modules/module.py:1747\u001b[0m, in \u001b[0;36mModule._call_impl\u001b[0;34m(self, *args, **kwargs)\u001b[0m\n\u001b[1;32m   1742\u001b[0m \u001b[39m# If we don't have any hooks, we want to skip the rest of the logic in\u001b[39;00m\n\u001b[1;32m   1743\u001b[0m \u001b[39m# this function, and just call forward.\u001b[39;00m\n\u001b[1;32m   1744\u001b[0m \u001b[39mif\u001b[39;00m \u001b[39mnot\u001b[39;00m (\u001b[39mself\u001b[39m\u001b[39m.\u001b[39m_backward_hooks \u001b[39mor\u001b[39;00m \u001b[39mself\u001b[39m\u001b[39m.\u001b[39m_backward_pre_hooks \u001b[39mor\u001b[39;00m \u001b[39mself\u001b[39m\u001b[39m.\u001b[39m_forward_hooks \u001b[39mor\u001b[39;00m \u001b[39mself\u001b[39m\u001b[39m.\u001b[39m_forward_pre_hooks\n\u001b[1;32m   1745\u001b[0m         \u001b[39mor\u001b[39;00m _global_backward_pre_hooks \u001b[39mor\u001b[39;00m _global_backward_hooks\n\u001b[1;32m   1746\u001b[0m         \u001b[39mor\u001b[39;00m _global_forward_hooks \u001b[39mor\u001b[39;00m _global_forward_pre_hooks):\n\u001b[0;32m-> 1747\u001b[0m     \u001b[39mreturn\u001b[39;00m forward_call(\u001b[39m*\u001b[39;49margs, \u001b[39m*\u001b[39;49m\u001b[39m*\u001b[39;49mkwargs)\n\u001b[1;32m   1749\u001b[0m result \u001b[39m=\u001b[39m \u001b[39mNone\u001b[39;00m\n\u001b[1;32m   1750\u001b[0m called_always_called_hooks \u001b[39m=\u001b[39m \u001b[39mset\u001b[39m()\n",
      "\u001b[1;32m/Users/alexhofman/wspace/AI/emotion_recognition/ER_FaceNet.ipynb Cell 6\u001b[0m line \u001b[0;36m2\n\u001b[1;32m     <a href='vscode-notebook-cell:/Users/alexhofman/wspace/AI/emotion_recognition/ER_FaceNet.ipynb#X11sZmlsZQ%3D%3D?line=21'>22</a>\u001b[0m \u001b[39mdef\u001b[39;00m \u001b[39mforward\u001b[39m(\u001b[39mself\u001b[39m, x):\n\u001b[1;32m     <a href='vscode-notebook-cell:/Users/alexhofman/wspace/AI/emotion_recognition/ER_FaceNet.ipynb#X11sZmlsZQ%3D%3D?line=22'>23</a>\u001b[0m     \u001b[39m# If facenet is in eval mode and freeze_facenet=True, it uses no_grad().\u001b[39;00m\n\u001b[1;32m     <a href='vscode-notebook-cell:/Users/alexhofman/wspace/AI/emotion_recognition/ER_FaceNet.ipynb#X11sZmlsZQ%3D%3D?line=23'>24</a>\u001b[0m     \u001b[39m# For partial fine-tuning, we set freeze_facenet=False & call train() on it \u001b[39;00m\n\u001b[1;32m     <a href='vscode-notebook-cell:/Users/alexhofman/wspace/AI/emotion_recognition/ER_FaceNet.ipynb#X11sZmlsZQ%3D%3D?line=24'>25</a>\u001b[0m     \u001b[39m# or just manually set requires_grad to True for certain layers.\u001b[39;00m\n\u001b[1;32m     <a href='vscode-notebook-cell:/Users/alexhofman/wspace/AI/emotion_recognition/ER_FaceNet.ipynb#X11sZmlsZQ%3D%3D?line=25'>26</a>\u001b[0m     \u001b[39mwith\u001b[39;00m torch\u001b[39m.\u001b[39mno_grad() \u001b[39mif\u001b[39;00m \u001b[39mnot\u001b[39;00m \u001b[39mself\u001b[39m\u001b[39m.\u001b[39mfacenet\u001b[39m.\u001b[39mtraining \u001b[39melse\u001b[39;00m torch\u001b[39m.\u001b[39menable_grad():\n\u001b[0;32m---> <a href='vscode-notebook-cell:/Users/alexhofman/wspace/AI/emotion_recognition/ER_FaceNet.ipynb#X11sZmlsZQ%3D%3D?line=26'>27</a>\u001b[0m         embeddings \u001b[39m=\u001b[39m \u001b[39mself\u001b[39;49m\u001b[39m.\u001b[39;49mfacenet(x)  \u001b[39m# shape: (batch_size, 512)\u001b[39;00m\n\u001b[1;32m     <a href='vscode-notebook-cell:/Users/alexhofman/wspace/AI/emotion_recognition/ER_FaceNet.ipynb#X11sZmlsZQ%3D%3D?line=27'>28</a>\u001b[0m     out \u001b[39m=\u001b[39m \u001b[39mself\u001b[39m\u001b[39m.\u001b[39mclassifier(embeddings)\n\u001b[1;32m     <a href='vscode-notebook-cell:/Users/alexhofman/wspace/AI/emotion_recognition/ER_FaceNet.ipynb#X11sZmlsZQ%3D%3D?line=28'>29</a>\u001b[0m     \u001b[39mreturn\u001b[39;00m out\n",
      "File \u001b[0;32m/opt/anaconda3/envs/CNN_env/lib/python3.10/site-packages/torch/nn/modules/module.py:1736\u001b[0m, in \u001b[0;36mModule._wrapped_call_impl\u001b[0;34m(self, *args, **kwargs)\u001b[0m\n\u001b[1;32m   1734\u001b[0m     \u001b[39mreturn\u001b[39;00m \u001b[39mself\u001b[39m\u001b[39m.\u001b[39m_compiled_call_impl(\u001b[39m*\u001b[39margs, \u001b[39m*\u001b[39m\u001b[39m*\u001b[39mkwargs)  \u001b[39m# type: ignore[misc]\u001b[39;00m\n\u001b[1;32m   1735\u001b[0m \u001b[39melse\u001b[39;00m:\n\u001b[0;32m-> 1736\u001b[0m     \u001b[39mreturn\u001b[39;00m \u001b[39mself\u001b[39;49m\u001b[39m.\u001b[39;49m_call_impl(\u001b[39m*\u001b[39;49margs, \u001b[39m*\u001b[39;49m\u001b[39m*\u001b[39;49mkwargs)\n",
      "File \u001b[0;32m/opt/anaconda3/envs/CNN_env/lib/python3.10/site-packages/torch/nn/modules/module.py:1747\u001b[0m, in \u001b[0;36mModule._call_impl\u001b[0;34m(self, *args, **kwargs)\u001b[0m\n\u001b[1;32m   1742\u001b[0m \u001b[39m# If we don't have any hooks, we want to skip the rest of the logic in\u001b[39;00m\n\u001b[1;32m   1743\u001b[0m \u001b[39m# this function, and just call forward.\u001b[39;00m\n\u001b[1;32m   1744\u001b[0m \u001b[39mif\u001b[39;00m \u001b[39mnot\u001b[39;00m (\u001b[39mself\u001b[39m\u001b[39m.\u001b[39m_backward_hooks \u001b[39mor\u001b[39;00m \u001b[39mself\u001b[39m\u001b[39m.\u001b[39m_backward_pre_hooks \u001b[39mor\u001b[39;00m \u001b[39mself\u001b[39m\u001b[39m.\u001b[39m_forward_hooks \u001b[39mor\u001b[39;00m \u001b[39mself\u001b[39m\u001b[39m.\u001b[39m_forward_pre_hooks\n\u001b[1;32m   1745\u001b[0m         \u001b[39mor\u001b[39;00m _global_backward_pre_hooks \u001b[39mor\u001b[39;00m _global_backward_hooks\n\u001b[1;32m   1746\u001b[0m         \u001b[39mor\u001b[39;00m _global_forward_hooks \u001b[39mor\u001b[39;00m _global_forward_pre_hooks):\n\u001b[0;32m-> 1747\u001b[0m     \u001b[39mreturn\u001b[39;00m forward_call(\u001b[39m*\u001b[39;49margs, \u001b[39m*\u001b[39;49m\u001b[39m*\u001b[39;49mkwargs)\n\u001b[1;32m   1749\u001b[0m result \u001b[39m=\u001b[39m \u001b[39mNone\u001b[39;00m\n\u001b[1;32m   1750\u001b[0m called_always_called_hooks \u001b[39m=\u001b[39m \u001b[39mset\u001b[39m()\n",
      "File \u001b[0;32m/opt/anaconda3/envs/CNN_env/lib/python3.10/site-packages/facenet_pytorch/models/inception_resnet_v1.py:290\u001b[0m, in \u001b[0;36mInceptionResnetV1.forward\u001b[0;34m(self, x)\u001b[0m\n\u001b[1;32m    288\u001b[0m x \u001b[39m=\u001b[39m \u001b[39mself\u001b[39m\u001b[39m.\u001b[39mrepeat_1(x)\n\u001b[1;32m    289\u001b[0m x \u001b[39m=\u001b[39m \u001b[39mself\u001b[39m\u001b[39m.\u001b[39mmixed_6a(x)\n\u001b[0;32m--> 290\u001b[0m x \u001b[39m=\u001b[39m \u001b[39mself\u001b[39;49m\u001b[39m.\u001b[39;49mrepeat_2(x)\n\u001b[1;32m    291\u001b[0m x \u001b[39m=\u001b[39m \u001b[39mself\u001b[39m\u001b[39m.\u001b[39mmixed_7a(x)\n\u001b[1;32m    292\u001b[0m x \u001b[39m=\u001b[39m \u001b[39mself\u001b[39m\u001b[39m.\u001b[39mrepeat_3(x)\n",
      "File \u001b[0;32m/opt/anaconda3/envs/CNN_env/lib/python3.10/site-packages/torch/nn/modules/module.py:1736\u001b[0m, in \u001b[0;36mModule._wrapped_call_impl\u001b[0;34m(self, *args, **kwargs)\u001b[0m\n\u001b[1;32m   1734\u001b[0m     \u001b[39mreturn\u001b[39;00m \u001b[39mself\u001b[39m\u001b[39m.\u001b[39m_compiled_call_impl(\u001b[39m*\u001b[39margs, \u001b[39m*\u001b[39m\u001b[39m*\u001b[39mkwargs)  \u001b[39m# type: ignore[misc]\u001b[39;00m\n\u001b[1;32m   1735\u001b[0m \u001b[39melse\u001b[39;00m:\n\u001b[0;32m-> 1736\u001b[0m     \u001b[39mreturn\u001b[39;00m \u001b[39mself\u001b[39;49m\u001b[39m.\u001b[39;49m_call_impl(\u001b[39m*\u001b[39;49margs, \u001b[39m*\u001b[39;49m\u001b[39m*\u001b[39;49mkwargs)\n",
      "File \u001b[0;32m/opt/anaconda3/envs/CNN_env/lib/python3.10/site-packages/torch/nn/modules/module.py:1747\u001b[0m, in \u001b[0;36mModule._call_impl\u001b[0;34m(self, *args, **kwargs)\u001b[0m\n\u001b[1;32m   1742\u001b[0m \u001b[39m# If we don't have any hooks, we want to skip the rest of the logic in\u001b[39;00m\n\u001b[1;32m   1743\u001b[0m \u001b[39m# this function, and just call forward.\u001b[39;00m\n\u001b[1;32m   1744\u001b[0m \u001b[39mif\u001b[39;00m \u001b[39mnot\u001b[39;00m (\u001b[39mself\u001b[39m\u001b[39m.\u001b[39m_backward_hooks \u001b[39mor\u001b[39;00m \u001b[39mself\u001b[39m\u001b[39m.\u001b[39m_backward_pre_hooks \u001b[39mor\u001b[39;00m \u001b[39mself\u001b[39m\u001b[39m.\u001b[39m_forward_hooks \u001b[39mor\u001b[39;00m \u001b[39mself\u001b[39m\u001b[39m.\u001b[39m_forward_pre_hooks\n\u001b[1;32m   1745\u001b[0m         \u001b[39mor\u001b[39;00m _global_backward_pre_hooks \u001b[39mor\u001b[39;00m _global_backward_hooks\n\u001b[1;32m   1746\u001b[0m         \u001b[39mor\u001b[39;00m _global_forward_hooks \u001b[39mor\u001b[39;00m _global_forward_pre_hooks):\n\u001b[0;32m-> 1747\u001b[0m     \u001b[39mreturn\u001b[39;00m forward_call(\u001b[39m*\u001b[39;49margs, \u001b[39m*\u001b[39;49m\u001b[39m*\u001b[39;49mkwargs)\n\u001b[1;32m   1749\u001b[0m result \u001b[39m=\u001b[39m \u001b[39mNone\u001b[39;00m\n\u001b[1;32m   1750\u001b[0m called_always_called_hooks \u001b[39m=\u001b[39m \u001b[39mset\u001b[39m()\n",
      "File \u001b[0;32m/opt/anaconda3/envs/CNN_env/lib/python3.10/site-packages/torch/nn/modules/container.py:250\u001b[0m, in \u001b[0;36mSequential.forward\u001b[0;34m(self, input)\u001b[0m\n\u001b[1;32m    248\u001b[0m \u001b[39mdef\u001b[39;00m \u001b[39mforward\u001b[39m(\u001b[39mself\u001b[39m, \u001b[39minput\u001b[39m):\n\u001b[1;32m    249\u001b[0m     \u001b[39mfor\u001b[39;00m module \u001b[39min\u001b[39;00m \u001b[39mself\u001b[39m:\n\u001b[0;32m--> 250\u001b[0m         \u001b[39minput\u001b[39m \u001b[39m=\u001b[39m module(\u001b[39minput\u001b[39;49m)\n\u001b[1;32m    251\u001b[0m     \u001b[39mreturn\u001b[39;00m \u001b[39minput\u001b[39m\n",
      "File \u001b[0;32m/opt/anaconda3/envs/CNN_env/lib/python3.10/site-packages/torch/nn/modules/module.py:1736\u001b[0m, in \u001b[0;36mModule._wrapped_call_impl\u001b[0;34m(self, *args, **kwargs)\u001b[0m\n\u001b[1;32m   1734\u001b[0m     \u001b[39mreturn\u001b[39;00m \u001b[39mself\u001b[39m\u001b[39m.\u001b[39m_compiled_call_impl(\u001b[39m*\u001b[39margs, \u001b[39m*\u001b[39m\u001b[39m*\u001b[39mkwargs)  \u001b[39m# type: ignore[misc]\u001b[39;00m\n\u001b[1;32m   1735\u001b[0m \u001b[39melse\u001b[39;00m:\n\u001b[0;32m-> 1736\u001b[0m     \u001b[39mreturn\u001b[39;00m \u001b[39mself\u001b[39;49m\u001b[39m.\u001b[39;49m_call_impl(\u001b[39m*\u001b[39;49margs, \u001b[39m*\u001b[39;49m\u001b[39m*\u001b[39;49mkwargs)\n",
      "File \u001b[0;32m/opt/anaconda3/envs/CNN_env/lib/python3.10/site-packages/torch/nn/modules/module.py:1747\u001b[0m, in \u001b[0;36mModule._call_impl\u001b[0;34m(self, *args, **kwargs)\u001b[0m\n\u001b[1;32m   1742\u001b[0m \u001b[39m# If we don't have any hooks, we want to skip the rest of the logic in\u001b[39;00m\n\u001b[1;32m   1743\u001b[0m \u001b[39m# this function, and just call forward.\u001b[39;00m\n\u001b[1;32m   1744\u001b[0m \u001b[39mif\u001b[39;00m \u001b[39mnot\u001b[39;00m (\u001b[39mself\u001b[39m\u001b[39m.\u001b[39m_backward_hooks \u001b[39mor\u001b[39;00m \u001b[39mself\u001b[39m\u001b[39m.\u001b[39m_backward_pre_hooks \u001b[39mor\u001b[39;00m \u001b[39mself\u001b[39m\u001b[39m.\u001b[39m_forward_hooks \u001b[39mor\u001b[39;00m \u001b[39mself\u001b[39m\u001b[39m.\u001b[39m_forward_pre_hooks\n\u001b[1;32m   1745\u001b[0m         \u001b[39mor\u001b[39;00m _global_backward_pre_hooks \u001b[39mor\u001b[39;00m _global_backward_hooks\n\u001b[1;32m   1746\u001b[0m         \u001b[39mor\u001b[39;00m _global_forward_hooks \u001b[39mor\u001b[39;00m _global_forward_pre_hooks):\n\u001b[0;32m-> 1747\u001b[0m     \u001b[39mreturn\u001b[39;00m forward_call(\u001b[39m*\u001b[39;49margs, \u001b[39m*\u001b[39;49m\u001b[39m*\u001b[39;49mkwargs)\n\u001b[1;32m   1749\u001b[0m result \u001b[39m=\u001b[39m \u001b[39mNone\u001b[39;00m\n\u001b[1;32m   1750\u001b[0m called_always_called_hooks \u001b[39m=\u001b[39m \u001b[39mset\u001b[39m()\n",
      "File \u001b[0;32m/opt/anaconda3/envs/CNN_env/lib/python3.10/site-packages/facenet_pytorch/models/inception_resnet_v1.py:92\u001b[0m, in \u001b[0;36mBlock17.forward\u001b[0;34m(self, x)\u001b[0m\n\u001b[1;32m     90\u001b[0m x1 \u001b[39m=\u001b[39m \u001b[39mself\u001b[39m\u001b[39m.\u001b[39mbranch1(x)\n\u001b[1;32m     91\u001b[0m out \u001b[39m=\u001b[39m torch\u001b[39m.\u001b[39mcat((x0, x1), \u001b[39m1\u001b[39m)\n\u001b[0;32m---> 92\u001b[0m out \u001b[39m=\u001b[39m \u001b[39mself\u001b[39;49m\u001b[39m.\u001b[39;49mconv2d(out)\n\u001b[1;32m     93\u001b[0m out \u001b[39m=\u001b[39m out \u001b[39m*\u001b[39m \u001b[39mself\u001b[39m\u001b[39m.\u001b[39mscale \u001b[39m+\u001b[39m x\n\u001b[1;32m     94\u001b[0m out \u001b[39m=\u001b[39m \u001b[39mself\u001b[39m\u001b[39m.\u001b[39mrelu(out)\n",
      "File \u001b[0;32m/opt/anaconda3/envs/CNN_env/lib/python3.10/site-packages/torch/nn/modules/module.py:1736\u001b[0m, in \u001b[0;36mModule._wrapped_call_impl\u001b[0;34m(self, *args, **kwargs)\u001b[0m\n\u001b[1;32m   1734\u001b[0m     \u001b[39mreturn\u001b[39;00m \u001b[39mself\u001b[39m\u001b[39m.\u001b[39m_compiled_call_impl(\u001b[39m*\u001b[39margs, \u001b[39m*\u001b[39m\u001b[39m*\u001b[39mkwargs)  \u001b[39m# type: ignore[misc]\u001b[39;00m\n\u001b[1;32m   1735\u001b[0m \u001b[39melse\u001b[39;00m:\n\u001b[0;32m-> 1736\u001b[0m     \u001b[39mreturn\u001b[39;00m \u001b[39mself\u001b[39;49m\u001b[39m.\u001b[39;49m_call_impl(\u001b[39m*\u001b[39;49margs, \u001b[39m*\u001b[39;49m\u001b[39m*\u001b[39;49mkwargs)\n",
      "File \u001b[0;32m/opt/anaconda3/envs/CNN_env/lib/python3.10/site-packages/torch/nn/modules/module.py:1747\u001b[0m, in \u001b[0;36mModule._call_impl\u001b[0;34m(self, *args, **kwargs)\u001b[0m\n\u001b[1;32m   1742\u001b[0m \u001b[39m# If we don't have any hooks, we want to skip the rest of the logic in\u001b[39;00m\n\u001b[1;32m   1743\u001b[0m \u001b[39m# this function, and just call forward.\u001b[39;00m\n\u001b[1;32m   1744\u001b[0m \u001b[39mif\u001b[39;00m \u001b[39mnot\u001b[39;00m (\u001b[39mself\u001b[39m\u001b[39m.\u001b[39m_backward_hooks \u001b[39mor\u001b[39;00m \u001b[39mself\u001b[39m\u001b[39m.\u001b[39m_backward_pre_hooks \u001b[39mor\u001b[39;00m \u001b[39mself\u001b[39m\u001b[39m.\u001b[39m_forward_hooks \u001b[39mor\u001b[39;00m \u001b[39mself\u001b[39m\u001b[39m.\u001b[39m_forward_pre_hooks\n\u001b[1;32m   1745\u001b[0m         \u001b[39mor\u001b[39;00m _global_backward_pre_hooks \u001b[39mor\u001b[39;00m _global_backward_hooks\n\u001b[1;32m   1746\u001b[0m         \u001b[39mor\u001b[39;00m _global_forward_hooks \u001b[39mor\u001b[39;00m _global_forward_pre_hooks):\n\u001b[0;32m-> 1747\u001b[0m     \u001b[39mreturn\u001b[39;00m forward_call(\u001b[39m*\u001b[39;49margs, \u001b[39m*\u001b[39;49m\u001b[39m*\u001b[39;49mkwargs)\n\u001b[1;32m   1749\u001b[0m result \u001b[39m=\u001b[39m \u001b[39mNone\u001b[39;00m\n\u001b[1;32m   1750\u001b[0m called_always_called_hooks \u001b[39m=\u001b[39m \u001b[39mset\u001b[39m()\n",
      "File \u001b[0;32m/opt/anaconda3/envs/CNN_env/lib/python3.10/site-packages/torch/nn/modules/conv.py:554\u001b[0m, in \u001b[0;36mConv2d.forward\u001b[0;34m(self, input)\u001b[0m\n\u001b[1;32m    553\u001b[0m \u001b[39mdef\u001b[39;00m \u001b[39mforward\u001b[39m(\u001b[39mself\u001b[39m, \u001b[39minput\u001b[39m: Tensor) \u001b[39m-\u001b[39m\u001b[39m>\u001b[39m Tensor:\n\u001b[0;32m--> 554\u001b[0m     \u001b[39mreturn\u001b[39;00m \u001b[39mself\u001b[39;49m\u001b[39m.\u001b[39;49m_conv_forward(\u001b[39minput\u001b[39;49m, \u001b[39mself\u001b[39;49m\u001b[39m.\u001b[39;49mweight, \u001b[39mself\u001b[39;49m\u001b[39m.\u001b[39;49mbias)\n",
      "File \u001b[0;32m/opt/anaconda3/envs/CNN_env/lib/python3.10/site-packages/torch/nn/modules/conv.py:549\u001b[0m, in \u001b[0;36mConv2d._conv_forward\u001b[0;34m(self, input, weight, bias)\u001b[0m\n\u001b[1;32m    537\u001b[0m \u001b[39mif\u001b[39;00m \u001b[39mself\u001b[39m\u001b[39m.\u001b[39mpadding_mode \u001b[39m!=\u001b[39m \u001b[39m\"\u001b[39m\u001b[39mzeros\u001b[39m\u001b[39m\"\u001b[39m:\n\u001b[1;32m    538\u001b[0m     \u001b[39mreturn\u001b[39;00m F\u001b[39m.\u001b[39mconv2d(\n\u001b[1;32m    539\u001b[0m         F\u001b[39m.\u001b[39mpad(\n\u001b[1;32m    540\u001b[0m             \u001b[39minput\u001b[39m, \u001b[39mself\u001b[39m\u001b[39m.\u001b[39m_reversed_padding_repeated_twice, mode\u001b[39m=\u001b[39m\u001b[39mself\u001b[39m\u001b[39m.\u001b[39mpadding_mode\n\u001b[0;32m   (...)\u001b[0m\n\u001b[1;32m    547\u001b[0m         \u001b[39mself\u001b[39m\u001b[39m.\u001b[39mgroups,\n\u001b[1;32m    548\u001b[0m     )\n\u001b[0;32m--> 549\u001b[0m \u001b[39mreturn\u001b[39;00m F\u001b[39m.\u001b[39;49mconv2d(\n\u001b[1;32m    550\u001b[0m     \u001b[39minput\u001b[39;49m, weight, bias, \u001b[39mself\u001b[39;49m\u001b[39m.\u001b[39;49mstride, \u001b[39mself\u001b[39;49m\u001b[39m.\u001b[39;49mpadding, \u001b[39mself\u001b[39;49m\u001b[39m.\u001b[39;49mdilation, \u001b[39mself\u001b[39;49m\u001b[39m.\u001b[39;49mgroups\n\u001b[1;32m    551\u001b[0m )\n",
      "\u001b[0;31mKeyboardInterrupt\u001b[0m: "
     ]
    }
   ],
   "source": [
    "from cgi import test\n",
    "\n",
    "\n",
    "warnings.filterwarnings(\"ignore\", category=FutureWarning)\n",
    "\n",
    "model = FaceNetClassifier()\n",
    "model.model_summary()\n",
    "\n",
    "criterion = nn.CrossEntropyLoss()\n",
    "# And a device:\n",
    "device = torch.device('cuda' if torch.cuda.is_available() else 'cpu')\n",
    "\n",
    "# Move your model to the device\n",
    "model.to(device)\n",
    "\n",
    "# Evaluate the model\n",
    "test_transform = transforms.Compose([\n",
    "        transforms.Resize((160, 160)),\n",
    "        transforms.ToTensor()\n",
    "    ])\n",
    "test_dir = \"cropped_mixed/test\"\n",
    "test_csv = os.path.join(test_dir, \"test_labels.csv\")\n",
    "test_dataset = FaceDataset(test_dir, test_csv, transform=test_transform)\n",
    "test_loader = DataLoader(test_dataset, batch_size=64, shuffle=True, num_workers=0)\n",
    "test_loss, test_acc = model.test_model(test_loader, criterion, device)\n",
    "print(f\"Test accuracy: {test_acc:.3f} ... (⌒_⌒;)\")"
   ]
  },
  {
   "cell_type": "code",
   "execution_count": 18,
   "metadata": {},
   "outputs": [],
   "source": [
    "import copy\n",
    "import torch\n",
    "from tqdm import tqdm\n",
    "\n",
    "def train_model(model, criterion, optimizer, train_loader, val_loader, device, epochs=5):\n",
    "    \"\"\"\n",
    "    Enhanced training loop using CosineAnnealingLR:\n",
    "      - Tracks train/val loss & accuracy each epoch\n",
    "      - Saves best model weights based on val_acc\n",
    "      - Returns model and metric lists for plotting\n",
    "    \"\"\"\n",
    "    model = model.to(device)\n",
    "    \n",
    "    # LR Scheduler: CosineAnnealingLR over 'epochs' cycles\n",
    "    scheduler = torch.optim.lr_scheduler.CosineAnnealingLR(optimizer, T_max=epochs)\n",
    "\n",
    "    best_acc = 0.0\n",
    "    best_model_wts = copy.deepcopy(model.state_dict())\n",
    "\n",
    "    # Lists to store metrics\n",
    "    train_losses = []\n",
    "    train_accuracies = []\n",
    "    val_losses = []\n",
    "    val_accuracies = []\n",
    "\n",
    "    for epoch in range(epochs):\n",
    "        print(f\"Epoch [{epoch+1}/{epochs}] started...\")\n",
    "        \n",
    "        # -------- TRAIN MODE --------\n",
    "        model.train()\n",
    "        total_loss = 0.0\n",
    "        correct = 0\n",
    "        total = 0\n",
    "        \n",
    "        for batch_idx, (images, labels) in tqdm(enumerate(train_loader),\n",
    "                                               total=len(train_loader),\n",
    "                                               desc=f\"Training Epoch {epoch+1}\"):\n",
    "            images, labels = images.to(device), labels.to(device)\n",
    "            \n",
    "            optimizer.zero_grad()\n",
    "            outputs = model(images)\n",
    "            loss = criterion(outputs, labels)\n",
    "            loss.backward()\n",
    "            optimizer.step()\n",
    "            \n",
    "            total_loss += loss.item() * images.size(0)\n",
    "            _, preds = torch.max(outputs, 1)\n",
    "            correct += (preds == labels).sum().item()\n",
    "            total += labels.size(0)\n",
    "        \n",
    "        train_loss = total_loss / total\n",
    "        train_acc = correct / total\n",
    "        train_losses.append(train_loss)\n",
    "        train_accuracies.append(train_acc)\n",
    "\n",
    "        # -------- EVAL MODE --------\n",
    "        model.eval()\n",
    "        val_loss_total = 0.0\n",
    "        val_correct = 0\n",
    "        val_total = 0\n",
    "\n",
    "        with torch.no_grad():\n",
    "            for images, labels in val_loader:\n",
    "                images, labels = images.to(device), labels.to(device)\n",
    "                outputs = model(images)\n",
    "                loss = criterion(outputs, labels)\n",
    "                \n",
    "                val_loss_total += loss.item() * images.size(0)\n",
    "                _, preds = torch.max(outputs, 1)\n",
    "                val_correct += (preds == labels).sum().item()\n",
    "                val_total += labels.size(0)\n",
    "        \n",
    "        val_loss = val_loss_total / val_total\n",
    "        val_acc = val_correct / val_total\n",
    "        val_losses.append(val_loss)\n",
    "        val_accuracies.append(val_acc)\n",
    "\n",
    "        # Step the LR scheduler\n",
    "        scheduler.step()\n",
    "        for param_group in optimizer.param_groups:\n",
    "            current_lr = param_group['lr']\n",
    "            print(\"Current LR:\", current_lr)\n",
    "\n",
    "        # Save the best model if val_acc improved\n",
    "        if val_acc > best_acc:\n",
    "            best_acc = val_acc\n",
    "            best_model_wts = copy.deepcopy(model.state_dict())\n",
    "\n",
    "        print(f\"Epoch [{epoch+1}/{epochs}], \"\n",
    "              f\"Train Loss: {train_loss:.4f}, Train Acc: {train_acc:.4f}, \"\n",
    "              f\"Val Loss: {val_loss:.4f}, Val Acc: {val_acc:.4f}\")\n",
    "\n",
    "    print(f\"Best val_acc across all epochs: {best_acc:.4f}\")\n",
    "    # Load best model weights\n",
    "    model.load_state_dict(best_model_wts)\n",
    "    \n",
    "    # Return model + metric lists\n",
    "    return model, (train_losses, train_accuracies, val_losses, val_accuracies, best_acc)\n"
   ]
  },
  {
   "cell_type": "code",
   "execution_count": 19,
   "metadata": {},
   "outputs": [
    {
     "name": "stdout",
     "output_type": "stream",
     "text": [
      "Total training samples: 17101\n",
      "Using device: cuda\n",
      "CUDA Available: True\n",
      "Starting training...\n",
      "Epoch [1/15] started...\n"
     ]
    },
    {
     "name": "stderr",
     "output_type": "stream",
     "text": [
      "Training Epoch 1: 100%|██████████| 268/268 [02:22<00:00,  1.89it/s]\n"
     ]
    },
    {
     "name": "stdout",
     "output_type": "stream",
     "text": [
      "Current LR: 9.890738003669029e-05\n",
      "Epoch [1/15], Train Loss: 2.0160, Train Acc: 0.2474, Val Loss: 1.7238, Val Acc: 0.3838\n",
      "Epoch [2/15] started...\n"
     ]
    },
    {
     "name": "stderr",
     "output_type": "stream",
     "text": [
      "Training Epoch 2: 100%|██████████| 268/268 [01:20<00:00,  3.31it/s]\n"
     ]
    },
    {
     "name": "stdout",
     "output_type": "stream",
     "text": [
      "Current LR: 9.567727288213005e-05\n",
      "Epoch [2/15], Train Loss: 1.5483, Train Acc: 0.4173, Val Loss: 1.2888, Val Acc: 0.5200\n",
      "Epoch [3/15] started...\n"
     ]
    },
    {
     "name": "stderr",
     "output_type": "stream",
     "text": [
      "Training Epoch 3: 100%|██████████| 268/268 [01:20<00:00,  3.33it/s]\n"
     ]
    },
    {
     "name": "stdout",
     "output_type": "stream",
     "text": [
      "Current LR: 9.045084971874738e-05\n",
      "Epoch [3/15], Train Loss: 1.3085, Train Acc: 0.5152, Val Loss: 1.1321, Val Acc: 0.5864\n",
      "Epoch [4/15] started...\n"
     ]
    },
    {
     "name": "stderr",
     "output_type": "stream",
     "text": [
      "Training Epoch 4: 100%|██████████| 268/268 [01:20<00:00,  3.33it/s]\n"
     ]
    },
    {
     "name": "stdout",
     "output_type": "stream",
     "text": [
      "Current LR: 8.345653031794292e-05\n",
      "Epoch [4/15], Train Loss: 1.1860, Train Acc: 0.5731, Val Loss: 1.0433, Val Acc: 0.6276\n",
      "Epoch [5/15] started...\n"
     ]
    },
    {
     "name": "stderr",
     "output_type": "stream",
     "text": [
      "Training Epoch 5: 100%|██████████| 268/268 [01:20<00:00,  3.33it/s]\n"
     ]
    },
    {
     "name": "stdout",
     "output_type": "stream",
     "text": [
      "Current LR: 7.500000000000001e-05\n",
      "Epoch [5/15], Train Loss: 1.0940, Train Acc: 0.6130, Val Loss: 0.9792, Val Acc: 0.6478\n",
      "Epoch [6/15] started...\n"
     ]
    },
    {
     "name": "stderr",
     "output_type": "stream",
     "text": [
      "Training Epoch 6: 100%|██████████| 268/268 [01:20<00:00,  3.34it/s]\n"
     ]
    },
    {
     "name": "stdout",
     "output_type": "stream",
     "text": [
      "Current LR: 6.545084971874738e-05\n",
      "Epoch [6/15], Train Loss: 1.0346, Train Acc: 0.6362, Val Loss: 0.9458, Val Acc: 0.6635\n",
      "Epoch [7/15] started...\n"
     ]
    },
    {
     "name": "stderr",
     "output_type": "stream",
     "text": [
      "Training Epoch 7: 100%|██████████| 268/268 [01:20<00:00,  3.34it/s]\n"
     ]
    },
    {
     "name": "stdout",
     "output_type": "stream",
     "text": [
      "Current LR: 5.522642316338269e-05\n",
      "Epoch [7/15], Train Loss: 0.9952, Train Acc: 0.6500, Val Loss: 0.9125, Val Acc: 0.6713\n",
      "Epoch [8/15] started...\n"
     ]
    },
    {
     "name": "stderr",
     "output_type": "stream",
     "text": [
      "Training Epoch 8: 100%|██████████| 268/268 [01:20<00:00,  3.34it/s]\n"
     ]
    },
    {
     "name": "stdout",
     "output_type": "stream",
     "text": [
      "Current LR: 4.4773576836617344e-05\n",
      "Epoch [8/15], Train Loss: 0.9592, Train Acc: 0.6666, Val Loss: 0.8955, Val Acc: 0.6763\n",
      "Epoch [9/15] started...\n"
     ]
    },
    {
     "name": "stderr",
     "output_type": "stream",
     "text": [
      "Training Epoch 9: 100%|██████████| 268/268 [01:20<00:00,  3.34it/s]\n"
     ]
    },
    {
     "name": "stdout",
     "output_type": "stream",
     "text": [
      "Current LR: 3.454915028125264e-05\n",
      "Epoch [9/15], Train Loss: 0.9203, Train Acc: 0.6817, Val Loss: 0.8885, Val Acc: 0.6781\n",
      "Epoch [10/15] started...\n"
     ]
    },
    {
     "name": "stderr",
     "output_type": "stream",
     "text": [
      "Training Epoch 10: 100%|██████████| 268/268 [01:20<00:00,  3.33it/s]\n"
     ]
    },
    {
     "name": "stdout",
     "output_type": "stream",
     "text": [
      "Current LR: 2.5000000000000018e-05\n",
      "Epoch [10/15], Train Loss: 0.8867, Train Acc: 0.6953, Val Loss: 0.8790, Val Acc: 0.6820\n",
      "Epoch [11/15] started...\n"
     ]
    },
    {
     "name": "stderr",
     "output_type": "stream",
     "text": [
      "Training Epoch 11: 100%|██████████| 268/268 [01:20<00:00,  3.32it/s]\n"
     ]
    },
    {
     "name": "stdout",
     "output_type": "stream",
     "text": [
      "Current LR: 1.654346968205711e-05\n",
      "Epoch [11/15], Train Loss: 0.8682, Train Acc: 0.7036, Val Loss: 0.8951, Val Acc: 0.6805\n",
      "Epoch [12/15] started...\n"
     ]
    },
    {
     "name": "stderr",
     "output_type": "stream",
     "text": [
      "Training Epoch 12: 100%|██████████| 268/268 [01:20<00:00,  3.33it/s]\n"
     ]
    },
    {
     "name": "stdout",
     "output_type": "stream",
     "text": [
      "Current LR: 9.549150281252635e-06\n",
      "Epoch [12/15], Train Loss: 0.8440, Train Acc: 0.7097, Val Loss: 0.8962, Val Acc: 0.6820\n",
      "Epoch [13/15] started...\n"
     ]
    },
    {
     "name": "stderr",
     "output_type": "stream",
     "text": [
      "Training Epoch 13: 100%|██████████| 268/268 [01:20<00:00,  3.34it/s]\n"
     ]
    },
    {
     "name": "stdout",
     "output_type": "stream",
     "text": [
      "Current LR: 4.322727117869952e-06\n",
      "Epoch [13/15], Train Loss: 0.8369, Train Acc: 0.7126, Val Loss: 0.8857, Val Acc: 0.6802\n",
      "Epoch [14/15] started...\n"
     ]
    },
    {
     "name": "stderr",
     "output_type": "stream",
     "text": [
      "Training Epoch 14: 100%|██████████| 268/268 [01:20<00:00,  3.33it/s]\n"
     ]
    },
    {
     "name": "stdout",
     "output_type": "stream",
     "text": [
      "Current LR: 1.092619963309716e-06\n",
      "Epoch [14/15], Train Loss: 0.8271, Train Acc: 0.7170, Val Loss: 0.8762, Val Acc: 0.6846\n",
      "Epoch [15/15] started...\n"
     ]
    },
    {
     "name": "stderr",
     "output_type": "stream",
     "text": [
      "Training Epoch 15: 100%|██████████| 268/268 [01:20<00:00,  3.34it/s]\n"
     ]
    },
    {
     "name": "stdout",
     "output_type": "stream",
     "text": [
      "Current LR: 0.0\n",
      "Epoch [15/15], Train Loss: 0.8143, Train Acc: 0.7230, Val Loss: 0.8806, Val Acc: 0.6868\n",
      "Best val_acc across all epochs: 0.6868\n",
      "Training completed!\n"
     ]
    },
    {
     "data": {
      "image/png": "[encoded data removed]",
      "text/plain": [
       "<Figure size 1000x400 with 1 Axes>"
      ]
     },
     "metadata": {},
     "output_type": "display_data"
    },
    {
     "data": {
      "image/png": "[encoded data removed]",
      "text/plain": [
       "<Figure size 1000x400 with 1 Axes>"
      ]
     },
     "metadata": {},
     "output_type": "display_data"
    },
    {
     "ename": "AttributeError",
     "evalue": "'FaceNetClassifier' object has no attribute 'best_acc'",
     "output_type": "error",
     "traceback": [
      "\u001b[1;31m---------------------------------------------------------------------------\u001b[0m",
      "\u001b[1;31mAttributeError\u001b[0m                            Traceback (most recent call last)",
      "\u001b[1;32mc:\\wspace\\AI\\emotion_recognition\\ER_FaceNet.ipynb Cell 7\u001b[0m line \u001b[0;36m1\n\u001b[0;32m    <a href='vscode-notebook-cell://ssh-remote%2Bmy-windows-pc/c%3A/wspace/AI/emotion_recognition/ER_FaceNet.ipynb#W6sdnNjb2RlLXJlbW90ZQ%3D%3D?line=104'>105</a>\u001b[0m     \u001b[39mprint\u001b[39m(\u001b[39m\"\u001b[39m\u001b[39mModel saved as facenet_emotion_classifier.pth\u001b[39m\u001b[39m\"\u001b[39m)\n\u001b[0;32m    <a href='vscode-notebook-cell://ssh-remote%2Bmy-windows-pc/c%3A/wspace/AI/emotion_recognition/ER_FaceNet.ipynb#W6sdnNjb2RlLXJlbW90ZQ%3D%3D?line=106'>107</a>\u001b[0m \u001b[39mif\u001b[39;00m \u001b[39m__name__\u001b[39m \u001b[39m==\u001b[39m \u001b[39m\"\u001b[39m\u001b[39m__main__\u001b[39m\u001b[39m\"\u001b[39m:\n\u001b[1;32m--> <a href='vscode-notebook-cell://ssh-remote%2Bmy-windows-pc/c%3A/wspace/AI/emotion_recognition/ER_FaceNet.ipynb#W6sdnNjb2RlLXJlbW90ZQ%3D%3D?line=107'>108</a>\u001b[0m     main()\n",
      "\u001b[1;32mc:\\wspace\\AI\\emotion_recognition\\ER_FaceNet.ipynb Cell 7\u001b[0m line \u001b[0;36m1\n\u001b[0;32m    <a href='vscode-notebook-cell://ssh-remote%2Bmy-windows-pc/c%3A/wspace/AI/emotion_recognition/ER_FaceNet.ipynb#W6sdnNjb2RlLXJlbW90ZQ%3D%3D?line=99'>100</a>\u001b[0m plt\u001b[39m.\u001b[39mshow()\n\u001b[0;32m    <a href='vscode-notebook-cell://ssh-remote%2Bmy-windows-pc/c%3A/wspace/AI/emotion_recognition/ER_FaceNet.ipynb#W6sdnNjb2RlLXJlbW90ZQ%3D%3D?line=102'>103</a>\u001b[0m \u001b[39m# 6. Save your best model\u001b[39;00m\n\u001b[1;32m--> <a href='vscode-notebook-cell://ssh-remote%2Bmy-windows-pc/c%3A/wspace/AI/emotion_recognition/ER_FaceNet.ipynb#W6sdnNjb2RlLXJlbW90ZQ%3D%3D?line=103'>104</a>\u001b[0m torch\u001b[39m.\u001b[39msave(trained_model\u001b[39m.\u001b[39mstate_dict(), \u001b[39mf\u001b[39m\u001b[39m\"\u001b[39m\u001b[39mfacenet_ec_\u001b[39m\u001b[39m{\u001b[39;00mtrained_model\u001b[39m.\u001b[39;49mbest_acc\u001b[39m:\u001b[39;00m\u001b[39m0.4\u001b[39m\u001b[39m}\u001b[39;00m\u001b[39m.pth\u001b[39m\u001b[39m\"\u001b[39m)\n\u001b[0;32m    <a href='vscode-notebook-cell://ssh-remote%2Bmy-windows-pc/c%3A/wspace/AI/emotion_recognition/ER_FaceNet.ipynb#W6sdnNjb2RlLXJlbW90ZQ%3D%3D?line=104'>105</a>\u001b[0m \u001b[39mprint\u001b[39m(\u001b[39m\"\u001b[39m\u001b[39mModel saved as facenet_emotion_classifier.pth\u001b[39m\u001b[39m\"\u001b[39m)\n",
      "File \u001b[1;32mc:\\Users\\user\\anaconda3\\envs\\tf_gpu\\lib\\site-packages\\torch\\nn\\modules\\module.py:1688\u001b[0m, in \u001b[0;36mModule.__getattr__\u001b[1;34m(self, name)\u001b[0m\n\u001b[0;32m   1686\u001b[0m     \u001b[39mif\u001b[39;00m name \u001b[39min\u001b[39;00m modules:\n\u001b[0;32m   1687\u001b[0m         \u001b[39mreturn\u001b[39;00m modules[name]\n\u001b[1;32m-> 1688\u001b[0m \u001b[39mraise\u001b[39;00m \u001b[39mAttributeError\u001b[39;00m(\u001b[39mf\u001b[39m\u001b[39m\"\u001b[39m\u001b[39m'\u001b[39m\u001b[39m{\u001b[39;00m\u001b[39mtype\u001b[39m(\u001b[39mself\u001b[39m)\u001b[39m.\u001b[39m\u001b[39m__name__\u001b[39m\u001b[39m}\u001b[39;00m\u001b[39m'\u001b[39m\u001b[39m object has no attribute \u001b[39m\u001b[39m'\u001b[39m\u001b[39m{\u001b[39;00mname\u001b[39m}\u001b[39;00m\u001b[39m'\u001b[39m\u001b[39m\"\u001b[39m)\n",
      "\u001b[1;31mAttributeError\u001b[0m: 'FaceNetClassifier' object has no attribute 'best_acc'"
     ]
    }
   ],
   "source": [
    "def main():\n",
    "    # 1. Paths to your dataset\n",
    "    train_dir = \"cropped_mixed/train\"\n",
    "    train_csv = os.path.join(train_dir, \"train_labels.csv\")\n",
    "    val_dir = \"cropped_mixed/val\"\n",
    "    val_csv = os.path.join(val_dir, \"val_labels.csv\")\n",
    "\n",
    "    # 2. Augmentations\n",
    "    #    Heavier train augmentation, lighter val transform\n",
    "    train_transform = transforms.Compose([\n",
    "        # Random crop approach\n",
    "        transforms.Resize((180, 180)),       # make it bigger first\n",
    "        transforms.RandomCrop((160, 160)),   # then random crop to 160x160\n",
    "        transforms.RandomHorizontalFlip(p=0.5),\n",
    "        transforms.RandomRotation(15),\n",
    "        transforms.ColorJitter(\n",
    "            brightness=0.2,\n",
    "            contrast=0.2,\n",
    "            saturation=0.2,\n",
    "            hue=0.1\n",
    "        ),\n",
    "        transforms.ToTensor(),\n",
    "        # Random Erasing\n",
    "        transforms.RandomErasing(p=0.5, scale=(0.02, 0.1))\n",
    "    ])\n",
    "\n",
    "    val_transform = transforms.Compose([\n",
    "        transforms.Resize((160, 160)),\n",
    "        transforms.ToTensor()\n",
    "    ])\n",
    "\n",
    "    # 3. Datasets & DataLoaders\n",
    "    train_dataset = FaceDataset(train_dir, train_csv, transform=train_transform)\n",
    "    val_dataset = FaceDataset(val_dir, val_csv, transform=val_transform)\n",
    "\n",
    "    train_loader = DataLoader(train_dataset, batch_size=64, shuffle=True, num_workers=0)\n",
    "    val_loader = DataLoader(val_dataset, batch_size=64, shuffle=False, num_workers=0)\n",
    "\n",
    "    print(f\"Total training samples: {len(train_loader.dataset)}\")\n",
    "\n",
    "    # 4. Initialize model, loss, optimizer, device\n",
    "    device = torch.device(\"cuda\" if torch.cuda.is_available() else \"cpu\")\n",
    "    print(\"Using device:\", device)\n",
    "    print(\"CUDA Available:\", torch.cuda.is_available())\n",
    "    if device == \"cuda\":\n",
    "        print(\"CUDA Device Name:\", torch.cuda.get_device_name(0))\n",
    "\n",
    "    # freeze_facenet=False to allow partial or full fine-tuning\n",
    "    model = FaceNetClassifier(num_emotions=8, freeze_facenet=False)\n",
    "\n",
    "    for name, param in model.facenet.named_parameters():\n",
    "    # Unfreeze if the name contains one of these blocks\n",
    "        # if any(b in name for b in [\"block0\", \"block1\", \"block6\", \"block7\", \"block8\"]):\n",
    "        #     param.requires_grad = True\n",
    "        # else:\n",
    "        #     param.requires_grad = False\n",
    "\n",
    "        param.requires_grad = True\n",
    "\n",
    "    criterion = nn.CrossEntropyLoss()\n",
    "    optimizer = optim.Adam(\n",
    "        filter(lambda p: p.requires_grad, model.parameters()), \n",
    "        lr=1e-4\n",
    "    )\n",
    "\n",
    "    # 5. Train\n",
    "    print(\"Starting training...\")\n",
    "    trained_model, metrics = train_model(\n",
    "        model, criterion, optimizer, \n",
    "        train_loader, val_loader, \n",
    "        device, epochs=15\n",
    "    )\n",
    "    print(\"Training completed!\")\n",
    "\n",
    "    train_losses, train_accuracies, val_losses, val_accuracies, best_acc = metrics\n",
    "\n",
    "    # Example plotting with matplotlib\n",
    "    import matplotlib.pyplot as plt\n",
    "\n",
    "    epochs_range = range(1, len(train_losses)+1)\n",
    "\n",
    "    # Model summary\n",
    "    print(trained_model)\n",
    "\n",
    "    # Plot history\n",
    "    plt.figure(figsize=(10,4))\n",
    "    plt.plot(epochs_range, train_losses, label='Train Loss')\n",
    "    plt.plot(epochs_range, val_losses, label='Val Loss')\n",
    "    plt.xlabel('Epoch')\n",
    "    plt.ylabel('Loss')\n",
    "    plt.title('Train vs Validation Loss')\n",
    "    plt.legend()\n",
    "    plt.show()\n",
    "\n",
    "    # Plot Accuracy\n",
    "    plt.figure(figsize=(10,4))\n",
    "    plt.plot(epochs_range, train_accuracies, label='Train Acc')\n",
    "    plt.plot(epochs_range, val_accuracies, label='Val Acc')\n",
    "    plt.xlabel('Epoch')\n",
    "    plt.ylabel('Accuracy')\n",
    "    plt.title('Train vs Validation Accuracy')\n",
    "    plt.legend()\n",
    "    plt.show()\n",
    "\n",
    "\n",
    "    # 6. Save your best model\n",
    "    torch.save(trained_model, f\"models/facenet_ec_{best_acc:0.4}.pth\")\n",
    "    print(\"Model saved as facenet_emotion_classifier.pth\")\n",
    "\n",
    "if __name__ == \"__main__\":\n",
    "    main()"
   ]
  },
  {
   "cell_type": "markdown",
   "metadata": {},
   "source": [
    "when freezing the last couple of layers (block7, block8, and last_bn) i was getting 69% (it was always less then 70%) and when i unfreeze all i started getting 75.4% and considering i have 17k images to train and strong data augmentation, unfreezing all of the pre trained model made more sense"
   ]
  }
 ],
 "metadata": {
  "kernelspec": {
   "display_name": "CNN_env",
   "language": "python",
   "name": "python3"
  },
  "language_info": {
   "codemirror_mode": {
    "name": "ipython",
    "version": 3
   },
   "file_extension": ".py",
   "mimetype": "text/x-python",
   "name": "python",
   "nbconvert_exporter": "python",
   "pygments_lexer": "ipython3",
   "version": "3.10.13"
  }
 },
 "nbformat": 4,
 "nbformat_minor": 2
}
